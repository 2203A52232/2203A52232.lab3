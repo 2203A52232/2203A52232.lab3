{
  "nbformat": 4,
  "nbformat_minor": 0,
  "metadata": {
    "colab": {
      "provenance": []
    },
    "kernelspec": {
      "name": "python3",
      "display_name": "Python 3"
    },
    "language_info": {
      "name": "python"
    }
  },
  "cells": [
    {
      "cell_type": "code",
      "source": [
        "import pandas as pd\n",
        "d=pd.read_csv(\"/train.csv\")\n",
        "print(d)\n",
        "print(d.isnull())"
      ],
      "metadata": {
        "colab": {
          "base_uri": "https://localhost:8080/"
        },
        "id": "tbCmUJnHe7Du",
        "outputId": "61ee24f0-8bb0-4ede-8511-df8b9aff1cdf"
      },
      "execution_count": 145,
      "outputs": [
        {
          "output_type": "stream",
          "name": "stdout",
          "text": [
            "      battery_power  blue  clock_speed  dual_sim  fc  four_g  int_memory  \\\n",
            "0               842     0          2.2         0   1       0           7   \n",
            "1              1021     1          0.5         1   0       1          53   \n",
            "2               563     1          0.5         1   2       1          41   \n",
            "3               615     1          2.5         0   0       0          10   \n",
            "4              1821     1          1.2         0  13       1          44   \n",
            "...             ...   ...          ...       ...  ..     ...         ...   \n",
            "1995            794     1          0.5         1   0       1           2   \n",
            "1996           1965     1          2.6         1   0       0          39   \n",
            "1997           1911     0          0.9         1   1       1          36   \n",
            "1998           1512     0          0.9         0   4       1          46   \n",
            "1999            510     1          2.0         1   5       1          45   \n",
            "\n",
            "      m_dep  mobile_wt  n_cores  ...  px_height  px_width   ram  sc_h  sc_w  \\\n",
            "0       0.6        188        2  ...         20       756  2549     9     7   \n",
            "1       0.7        136        3  ...        905      1988  2631    17     3   \n",
            "2       0.9        145        5  ...       1263      1716  2603    11     2   \n",
            "3       0.8        131        6  ...       1216      1786  2769    16     8   \n",
            "4       0.6        141        2  ...       1208      1212  1411     8     2   \n",
            "...     ...        ...      ...  ...        ...       ...   ...   ...   ...   \n",
            "1995    0.8        106        6  ...       1222      1890   668    13     4   \n",
            "1996    0.2        187        4  ...        915      1965  2032    11    10   \n",
            "1997    0.7        108        8  ...        868      1632  3057     9     1   \n",
            "1998    0.1        145        5  ...        336       670   869    18    10   \n",
            "1999    0.9        168        6  ...        483       754  3919    19     4   \n",
            "\n",
            "      talk_time  three_g  touch_screen  wifi  price_range  \n",
            "0            19        0             0     1            1  \n",
            "1             7        1             1     0            2  \n",
            "2             9        1             1     0            2  \n",
            "3            11        1             0     0            2  \n",
            "4            15        1             1     0            1  \n",
            "...         ...      ...           ...   ...          ...  \n",
            "1995         19        1             1     0            0  \n",
            "1996         16        1             1     1            2  \n",
            "1997          5        1             1     0            3  \n",
            "1998         19        1             1     1            0  \n",
            "1999          2        1             1     1            3  \n",
            "\n",
            "[2000 rows x 21 columns]\n",
            "      battery_power   blue  clock_speed  dual_sim     fc  four_g  int_memory  \\\n",
            "0             False  False        False     False  False   False       False   \n",
            "1             False  False        False     False  False   False       False   \n",
            "2             False  False        False     False  False   False       False   \n",
            "3             False  False        False     False  False   False       False   \n",
            "4             False  False        False     False  False   False       False   \n",
            "...             ...    ...          ...       ...    ...     ...         ...   \n",
            "1995          False  False        False     False  False   False       False   \n",
            "1996          False  False        False     False  False   False       False   \n",
            "1997          False  False        False     False  False   False       False   \n",
            "1998          False  False        False     False  False   False       False   \n",
            "1999          False  False        False     False  False   False       False   \n",
            "\n",
            "      m_dep  mobile_wt  n_cores  ...  px_height  px_width    ram   sc_h  \\\n",
            "0     False      False    False  ...      False     False  False  False   \n",
            "1     False      False    False  ...      False     False  False  False   \n",
            "2     False      False    False  ...      False     False  False  False   \n",
            "3     False      False    False  ...      False     False  False  False   \n",
            "4     False      False    False  ...      False     False  False  False   \n",
            "...     ...        ...      ...  ...        ...       ...    ...    ...   \n",
            "1995  False      False    False  ...      False     False  False  False   \n",
            "1996  False      False    False  ...      False     False  False  False   \n",
            "1997  False      False    False  ...      False     False  False  False   \n",
            "1998  False      False    False  ...      False     False  False  False   \n",
            "1999  False      False    False  ...      False     False  False  False   \n",
            "\n",
            "       sc_w  talk_time  three_g  touch_screen   wifi  price_range  \n",
            "0     False      False    False         False  False        False  \n",
            "1     False      False    False         False  False        False  \n",
            "2     False      False    False         False  False        False  \n",
            "3     False      False    False         False  False        False  \n",
            "4     False      False    False         False  False        False  \n",
            "...     ...        ...      ...           ...    ...          ...  \n",
            "1995  False      False    False         False  False        False  \n",
            "1996  False      False    False         False  False        False  \n",
            "1997  False      False    False         False  False        False  \n",
            "1998  False      False    False         False  False        False  \n",
            "1999  False      False    False         False  False        False  \n",
            "\n",
            "[2000 rows x 21 columns]\n"
          ]
        }
      ]
    },
    {
      "cell_type": "code",
      "source": [
        "y=d['price_range']"
      ],
      "metadata": {
        "id": "ehTiQNMFgyhQ"
      },
      "execution_count": 146,
      "outputs": []
    },
    {
      "cell_type": "code",
      "source": [
        "x=d.drop('price_range',axis=1)"
      ],
      "metadata": {
        "id": "p3LiJOuShWDK"
      },
      "execution_count": 147,
      "outputs": []
    },
    {
      "cell_type": "code",
      "source": [
        "print(y)\n",
        "print(x)"
      ],
      "metadata": {
        "colab": {
          "base_uri": "https://localhost:8080/"
        },
        "id": "04-QB-mohha5",
        "outputId": "a8b65ff1-761b-4f5d-f1ca-6cea2448dd04"
      },
      "execution_count": 148,
      "outputs": [
        {
          "output_type": "stream",
          "name": "stdout",
          "text": [
            "0       1\n",
            "1       2\n",
            "2       2\n",
            "3       2\n",
            "4       1\n",
            "       ..\n",
            "1995    0\n",
            "1996    2\n",
            "1997    3\n",
            "1998    0\n",
            "1999    3\n",
            "Name: price_range, Length: 2000, dtype: int64\n",
            "      battery_power  blue  clock_speed  dual_sim  fc  four_g  int_memory  \\\n",
            "0               842     0          2.2         0   1       0           7   \n",
            "1              1021     1          0.5         1   0       1          53   \n",
            "2               563     1          0.5         1   2       1          41   \n",
            "3               615     1          2.5         0   0       0          10   \n",
            "4              1821     1          1.2         0  13       1          44   \n",
            "...             ...   ...          ...       ...  ..     ...         ...   \n",
            "1995            794     1          0.5         1   0       1           2   \n",
            "1996           1965     1          2.6         1   0       0          39   \n",
            "1997           1911     0          0.9         1   1       1          36   \n",
            "1998           1512     0          0.9         0   4       1          46   \n",
            "1999            510     1          2.0         1   5       1          45   \n",
            "\n",
            "      m_dep  mobile_wt  n_cores  pc  px_height  px_width   ram  sc_h  sc_w  \\\n",
            "0       0.6        188        2   2         20       756  2549     9     7   \n",
            "1       0.7        136        3   6        905      1988  2631    17     3   \n",
            "2       0.9        145        5   6       1263      1716  2603    11     2   \n",
            "3       0.8        131        6   9       1216      1786  2769    16     8   \n",
            "4       0.6        141        2  14       1208      1212  1411     8     2   \n",
            "...     ...        ...      ...  ..        ...       ...   ...   ...   ...   \n",
            "1995    0.8        106        6  14       1222      1890   668    13     4   \n",
            "1996    0.2        187        4   3        915      1965  2032    11    10   \n",
            "1997    0.7        108        8   3        868      1632  3057     9     1   \n",
            "1998    0.1        145        5   5        336       670   869    18    10   \n",
            "1999    0.9        168        6  16        483       754  3919    19     4   \n",
            "\n",
            "      talk_time  three_g  touch_screen  wifi  \n",
            "0            19        0             0     1  \n",
            "1             7        1             1     0  \n",
            "2             9        1             1     0  \n",
            "3            11        1             0     0  \n",
            "4            15        1             1     0  \n",
            "...         ...      ...           ...   ...  \n",
            "1995         19        1             1     0  \n",
            "1996         16        1             1     1  \n",
            "1997          5        1             1     0  \n",
            "1998         19        1             1     1  \n",
            "1999          2        1             1     1  \n",
            "\n",
            "[2000 rows x 20 columns]\n"
          ]
        }
      ]
    },
    {
      "cell_type": "code",
      "source": [
        "from sklearn.preprocessing import MinMaxScaler\n",
        "scaler=MinMaxScaler(feature_range=(0,1))\n",
        "xtrain_norm=scaler.fit_transform(x)"
      ],
      "metadata": {
        "id": "xkVs_qTJhrQp"
      },
      "execution_count": 149,
      "outputs": []
    },
    {
      "cell_type": "code",
      "source": [
        "print(Xtrain_norm)"
      ],
      "metadata": {
        "colab": {
          "base_uri": "https://localhost:8080/"
        },
        "id": "agRshZ8yiVDb",
        "outputId": "b6ecda47-3572-4666-924c-0a30e01f90a4"
      },
      "execution_count": 151,
      "outputs": [
        {
          "output_type": "stream",
          "name": "stdout",
          "text": [
            "[[0.70833333 1.         1.         ... 0.         0.         0.33333333]\n",
            " [0.16666667 1.         0.66666667 ... 0.         0.         0.66666667]\n",
            " [0.25       0.         0.33333333 ... 1.         0.         0.66666667]\n",
            " ...\n",
            " [0.8125     1.         0.         ... 0.5        0.5        1.        ]\n",
            " [0.58333333 1.         0.         ... 0.5        0.25       1.        ]\n",
            " [0.58333333 0.         0.33333333 ... 0.5        0.25       0.66666667]]\n"
          ]
        }
      ]
    },
    {
      "cell_type": "code",
      "source": [
        "from sklearn .model_selection import train_test_split"
      ],
      "metadata": {
        "id": "77YMT8nTiyAF"
      },
      "execution_count": 152,
      "outputs": []
    },
    {
      "cell_type": "code",
      "source": [
        "x_train,x_test,y_train,y_test=train_test_split(xtrain_norm,y,test_size=0.3)"
      ],
      "metadata": {
        "id": "ODBJHOTkkp93"
      },
      "execution_count": 153,
      "outputs": []
    },
    {
      "cell_type": "code",
      "source": [
        "print(x_train)"
      ],
      "metadata": {
        "colab": {
          "base_uri": "https://localhost:8080/"
        },
        "id": "WQlqLGvMmyOo",
        "outputId": "40861083-3421-4dfb-d66b-7d55ff515eb6"
      },
      "execution_count": 154,
      "outputs": [
        {
          "output_type": "stream",
          "name": "stdout",
          "text": [
            "[[0.21175685 0.         0.32       ... 1.         1.         1.        ]\n",
            " [0.3259853  1.         0.52       ... 1.         0.         1.        ]\n",
            " [0.60855043 0.         0.04       ... 0.         0.         1.        ]\n",
            " ...\n",
            " [0.07214429 1.         1.         ... 1.         0.         1.        ]\n",
            " [0.80293921 1.         0.4        ... 1.         1.         1.        ]\n",
            " [0.56646627 0.         0.6        ... 1.         0.         0.        ]]\n"
          ]
        }
      ]
    },
    {
      "cell_type": "code",
      "source": [
        "print(x_test)"
      ],
      "metadata": {
        "colab": {
          "base_uri": "https://localhost:8080/"
        },
        "id": "4_RN7H1NnS5b",
        "outputId": "b4e1d881-4195-4ab5-8cd8-b4abf1623d43"
      },
      "execution_count": 155,
      "outputs": [
        {
          "output_type": "stream",
          "name": "stdout",
          "text": [
            "[[0.8750835  1.         0.8        ... 1.         1.         1.        ]\n",
            " [0.05678023 0.         0.         ... 1.         1.         1.        ]\n",
            " [0.79358717 1.         0.         ... 1.         0.         0.        ]\n",
            " ...\n",
            " [0.08149633 1.         0.12       ... 1.         0.         0.        ]\n",
            " [0.36138945 0.         0.88       ... 1.         1.         1.        ]\n",
            " [0.7748831  1.         0.36       ... 1.         1.         1.        ]]\n"
          ]
        }
      ]
    },
    {
      "cell_type": "code",
      "source": [
        "print(y_train)"
      ],
      "metadata": {
        "colab": {
          "base_uri": "https://localhost:8080/"
        },
        "id": "b1o7CLB0nWCs",
        "outputId": "c13a1270-1226-4208-89f8-2eac80ba06fb"
      },
      "execution_count": 156,
      "outputs": [
        {
          "output_type": "stream",
          "name": "stdout",
          "text": [
            "994     0\n",
            "1104    1\n",
            "1536    1\n",
            "1130    3\n",
            "1049    1\n",
            "       ..\n",
            "1872    1\n",
            "1182    0\n",
            "350     1\n",
            "372     3\n",
            "447     2\n",
            "Name: price_range, Length: 1400, dtype: int64\n"
          ]
        }
      ]
    },
    {
      "cell_type": "code",
      "source": [
        "print(y_test)"
      ],
      "metadata": {
        "colab": {
          "base_uri": "https://localhost:8080/"
        },
        "id": "_4oLHD1ynY-g",
        "outputId": "d4b68ea5-ae92-4d46-ed33-21bcf21d3b39"
      },
      "execution_count": 157,
      "outputs": [
        {
          "output_type": "stream",
          "name": "stdout",
          "text": [
            "1336    2\n",
            "1112    3\n",
            "1484    2\n",
            "164     2\n",
            "1845    3\n",
            "       ..\n",
            "1887    2\n",
            "834     3\n",
            "1831    1\n",
            "401     3\n",
            "504     0\n",
            "Name: price_range, Length: 600, dtype: int64\n"
          ]
        }
      ]
    },
    {
      "cell_type": "code",
      "source": [
        "import pandas as pd\n"
      ],
      "metadata": {
        "id": "J5EZi8rdnhq-"
      },
      "execution_count": 160,
      "outputs": []
    },
    {
      "cell_type": "code",
      "source": [
        "h=pd.read_csv(\"/heart.csv\")"
      ],
      "metadata": {
        "id": "G74pOnFAof45"
      },
      "execution_count": 158,
      "outputs": []
    },
    {
      "cell_type": "code",
      "source": [
        "print(h)"
      ],
      "metadata": {
        "colab": {
          "base_uri": "https://localhost:8080/"
        },
        "id": "T1t888Y6ozOK",
        "outputId": "6d6c20cf-7a09-4a16-d227-677d57055e52"
      },
      "execution_count": 161,
      "outputs": [
        {
          "output_type": "stream",
          "name": "stdout",
          "text": [
            "     age  sex  cp  trestbps  chol  fbs  restecg  thalach  exang  oldpeak  \\\n",
            "0     63    1   3       145   233    1        0      150      0      2.3   \n",
            "1     37    1   2       130   250    0        1      187      0      3.5   \n",
            "2     41    0   1       130   204    0        0      172      0      1.4   \n",
            "3     56    1   1       120   236    0        1      178      0      0.8   \n",
            "4     57    0   0       120   354    0        1      163      1      0.6   \n",
            "..   ...  ...  ..       ...   ...  ...      ...      ...    ...      ...   \n",
            "298   57    0   0       140   241    0        1      123      1      0.2   \n",
            "299   45    1   3       110   264    0        1      132      0      1.2   \n",
            "300   68    1   0       144   193    1        1      141      0      3.4   \n",
            "301   57    1   0       130   131    0        1      115      1      1.2   \n",
            "302   57    0   1       130   236    0        0      174      0      0.0   \n",
            "\n",
            "     slope  ca  thal  target  \n",
            "0        0   0     1       1  \n",
            "1        0   0     2       1  \n",
            "2        2   0     2       1  \n",
            "3        2   0     2       1  \n",
            "4        2   0     2       1  \n",
            "..     ...  ..   ...     ...  \n",
            "298      1   0     3       0  \n",
            "299      1   0     3       0  \n",
            "300      1   2     3       0  \n",
            "301      1   1     3       0  \n",
            "302      1   1     2       0  \n",
            "\n",
            "[303 rows x 14 columns]\n"
          ]
        }
      ]
    },
    {
      "cell_type": "code",
      "source": [
        "yh=h['target']\n",
        "xh=h.drop(\"target\",axis=1)\n",
        "print(xh)"
      ],
      "metadata": {
        "id": "kGtP6jE6pCiw",
        "colab": {
          "base_uri": "https://localhost:8080/"
        },
        "outputId": "d8645fd9-5db1-4dfb-f062-d5811345bf0c"
      },
      "execution_count": 162,
      "outputs": [
        {
          "output_type": "stream",
          "name": "stdout",
          "text": [
            "     age  sex  cp  trestbps  chol  fbs  restecg  thalach  exang  oldpeak  \\\n",
            "0     63    1   3       145   233    1        0      150      0      2.3   \n",
            "1     37    1   2       130   250    0        1      187      0      3.5   \n",
            "2     41    0   1       130   204    0        0      172      0      1.4   \n",
            "3     56    1   1       120   236    0        1      178      0      0.8   \n",
            "4     57    0   0       120   354    0        1      163      1      0.6   \n",
            "..   ...  ...  ..       ...   ...  ...      ...      ...    ...      ...   \n",
            "298   57    0   0       140   241    0        1      123      1      0.2   \n",
            "299   45    1   3       110   264    0        1      132      0      1.2   \n",
            "300   68    1   0       144   193    1        1      141      0      3.4   \n",
            "301   57    1   0       130   131    0        1      115      1      1.2   \n",
            "302   57    0   1       130   236    0        0      174      0      0.0   \n",
            "\n",
            "     slope  ca  thal  \n",
            "0        0   0     1  \n",
            "1        0   0     2  \n",
            "2        2   0     2  \n",
            "3        2   0     2  \n",
            "4        2   0     2  \n",
            "..     ...  ..   ...  \n",
            "298      1   0     3  \n",
            "299      1   0     3  \n",
            "300      1   2     3  \n",
            "301      1   1     3  \n",
            "302      1   1     2  \n",
            "\n",
            "[303 rows x 13 columns]\n"
          ]
        }
      ]
    },
    {
      "cell_type": "code",
      "source": [
        "from sklearn.preprocessing import MinMaxScaler\n",
        "scaler=MinMaxScaler(feature_range=(0,1))\n",
        "xhtrain_norm=scaler.fit_transform(xh)"
      ],
      "metadata": {
        "id": "XVgBPLvSpqc2"
      },
      "execution_count": 163,
      "outputs": []
    },
    {
      "cell_type": "code",
      "source": [
        "print(xhtrain_norm)"
      ],
      "metadata": {
        "colab": {
          "base_uri": "https://localhost:8080/"
        },
        "id": "LlU-NbVdqAXp",
        "outputId": "8c128703-00aa-41ad-cce0-2638b1201173"
      },
      "execution_count": 164,
      "outputs": [
        {
          "output_type": "stream",
          "name": "stdout",
          "text": [
            "[[0.70833333 1.         1.         ... 0.         0.         0.33333333]\n",
            " [0.16666667 1.         0.66666667 ... 0.         0.         0.66666667]\n",
            " [0.25       0.         0.33333333 ... 1.         0.         0.66666667]\n",
            " ...\n",
            " [0.8125     1.         0.         ... 0.5        0.5        1.        ]\n",
            " [0.58333333 1.         0.         ... 0.5        0.25       1.        ]\n",
            " [0.58333333 0.         0.33333333 ... 0.5        0.25       0.66666667]]\n"
          ]
        }
      ]
    },
    {
      "cell_type": "code",
      "source": [
        "from sklearn.model_selection import train_test_split\n",
        "xh_train,xh_test,yh_train,yh_test=train_test_split(xhtrain_norm,yh,test_size=0.3)"
      ],
      "metadata": {
        "id": "85UlmmzUq45B"
      },
      "execution_count": 165,
      "outputs": []
    },
    {
      "cell_type": "code",
      "source": [
        "print(xh_train)"
      ],
      "metadata": {
        "colab": {
          "base_uri": "https://localhost:8080/"
        },
        "id": "TpEX9hGUrmV9",
        "outputId": "bf1e48eb-fb50-43ec-f74f-86877b1ccd4e"
      },
      "execution_count": 166,
      "outputs": [
        {
          "output_type": "stream",
          "name": "stdout",
          "text": [
            "[[0.47916667 1.         0.33333333 ... 1.         0.         0.66666667]\n",
            " [0.60416667 1.         0.         ... 1.         0.25       1.        ]\n",
            " [0.70833333 1.         0.         ... 0.5        0.25       1.        ]\n",
            " ...\n",
            " [0.27083333 1.         0.66666667 ... 1.         0.         0.66666667]\n",
            " [0.58333333 1.         0.         ... 0.5        0.25       1.        ]\n",
            " [0.54166667 0.         0.33333333 ... 1.         0.         0.66666667]]\n"
          ]
        }
      ]
    },
    {
      "cell_type": "code",
      "source": [
        "print(xh_test)"
      ],
      "metadata": {
        "colab": {
          "base_uri": "https://localhost:8080/"
        },
        "id": "r3hcPulzryQV",
        "outputId": "0225cae3-951f-4307-8c13-da4ca8294b56"
      },
      "execution_count": 167,
      "outputs": [
        {
          "output_type": "stream",
          "name": "stdout",
          "text": [
            "[[0.83333333 0.         1.         ... 1.         0.5        0.66666667]\n",
            " [0.8125     0.         0.66666667 ... 0.5        0.         0.66666667]\n",
            " [0.27083333 1.         0.         ... 0.5        0.         0.33333333]\n",
            " ...\n",
            " [0.60416667 1.         0.66666667 ... 0.5        0.         1.        ]\n",
            " [0.33333333 1.         0.         ... 0.5        0.75       1.        ]\n",
            " [0.58333333 1.         0.         ... 0.5        0.         0.33333333]]\n"
          ]
        }
      ]
    },
    {
      "cell_type": "code",
      "source": [
        "print(yh_train)"
      ],
      "metadata": {
        "colab": {
          "base_uri": "https://localhost:8080/"
        },
        "id": "O6o96kDer29b",
        "outputId": "a5d47c91-48ee-4f2d-a38b-22734d719d73"
      },
      "execution_count": 168,
      "outputs": [
        {
          "output_type": "stream",
          "name": "stdout",
          "text": [
            "78     1\n",
            "273    0\n",
            "168    0\n",
            "218    0\n",
            "172    0\n",
            "      ..\n",
            "64     1\n",
            "1      1\n",
            "149    1\n",
            "243    0\n",
            "161    1\n",
            "Name: target, Length: 212, dtype: int64\n"
          ]
        }
      ]
    },
    {
      "cell_type": "code",
      "source": [
        "print(yh_test)"
      ],
      "metadata": {
        "colab": {
          "base_uri": "https://localhost:8080/"
        },
        "id": "2vOwFXwir7qI",
        "outputId": "0242bb03-9c4e-4717-e267-b773dbe440e4"
      },
      "execution_count": 169,
      "outputs": [
        {
          "output_type": "stream",
          "name": "stdout",
          "text": [
            "19     1\n",
            "105    1\n",
            "280    0\n",
            "208    0\n",
            "216    0\n",
            "      ..\n",
            "16     1\n",
            "233    0\n",
            "79     1\n",
            "255    0\n",
            "138    1\n",
            "Name: target, Length: 91, dtype: int64\n"
          ]
        }
      ]
    },
    {
      "cell_type": "code",
      "source": [
        "import numpy as np\n",
        "x1=xh_train[:,0]\n",
        "x2=xh_train[:,1]\n",
        "x3=xh_train[:,2]\n",
        "x4=xh_train[:,3]\n",
        "x5=xh_train[:,4]\n",
        "x6=xh_train[:,5]\n",
        "x7=xh_train[:,6]\n",
        "x8=xh_train[:,7]\n",
        "x9=xh_train[:,8]\n",
        "x10=xh_train[:,9]\n",
        "x11=xh_train[:,10]\n",
        "x12=xh_train[:,11]\n",
        "x13=xh_train[:,12]\n",
        "y_p=[]\n",
        "def perceptron(w1,w2,w3,w4,w5,w6,w7,w8,w9,w10,w11,w12,w13,b):\n",
        "  for i in range(len(x1)):\n",
        "    z=x1[i]*w1+x2[i]*w2+x3[i]*w3+x4[i]*w4+x5[i]*w5+x6[i]*w6+x7[i]*w7+x8[i]*w8+x9[i]*w9+x10[i]*w10+x11[i]*w11+x12[i]*w12+x13[i]*w13+b\n",
        "    s=1/1+np.exp(-z)\n",
        "    if(s>=0.5):\n",
        "     y_p.append(1)\n",
        "    else:\n",
        "      y_p.append(0)\n",
        "perceptron(1,1,1,1,1,1,1,1,1,1,1,1,1,1)\n"
      ],
      "metadata": {
        "id": "v0gFDur7sATL"
      },
      "execution_count": 174,
      "outputs": []
    },
    {
      "cell_type": "code",
      "source": [
        "print(perceptron)"
      ],
      "metadata": {
        "id": "H5V6wI9ge8Br",
        "colab": {
          "base_uri": "https://localhost:8080/"
        },
        "outputId": "169b97af-3537-42d3-ed75-583619d09a39"
      },
      "execution_count": 175,
      "outputs": [
        {
          "output_type": "stream",
          "name": "stdout",
          "text": [
            "<function perceptron at 0x7d9747da9000>\n"
          ]
        }
      ]
    },
    {
      "cell_type": "code",
      "source": [
        "print(y_p)"
      ],
      "metadata": {
        "id": "olH2qEF3VHeF",
        "colab": {
          "base_uri": "https://localhost:8080/"
        },
        "outputId": "5c9d613e-0f71-4298-fad7-80ad6b79c2ea"
      },
      "execution_count": 176,
      "outputs": [
        {
          "output_type": "stream",
          "name": "stdout",
          "text": [
            "[1, 1, 1, 1, 1, 1, 1, 1, 1, 1, 1, 1, 1, 1, 1, 1, 1, 1, 1, 1, 1, 1, 1, 1, 1, 1, 1, 1, 1, 1, 1, 1, 1, 1, 1, 1, 1, 1, 1, 1, 1, 1, 1, 1, 1, 1, 1, 1, 1, 1, 1, 1, 1, 1, 1, 1, 1, 1, 1, 1, 1, 1, 1, 1, 1, 1, 1, 1, 1, 1, 1, 1, 1, 1, 1, 1, 1, 1, 1, 1, 1, 1, 1, 1, 1, 1, 1, 1, 1, 1, 1, 1, 1, 1, 1, 1, 1, 1, 1, 1, 1, 1, 1, 1, 1, 1, 1, 1, 1, 1, 1, 1, 1, 1, 1, 1, 1, 1, 1, 1, 1, 1, 1, 1, 1, 1, 1, 1, 1, 1, 1, 1, 1, 1, 1, 1, 1, 1, 1, 1, 1, 1, 1, 1, 1, 1, 1, 1, 1, 1, 1, 1, 1, 1, 1, 1, 1, 1, 1, 1, 1, 1, 1, 1, 1, 1, 1, 1, 1, 1, 1, 1, 1, 1, 1, 1, 1, 1, 1, 1, 1, 1, 1, 1, 1, 1, 1, 1, 1, 1, 1, 1, 1, 1, 1, 1, 1, 1, 1, 1, 1, 1, 1, 1, 1, 1, 1, 1, 1, 1, 1, 1]\n"
          ]
        }
      ]
    },
    {
      "cell_type": "code",
      "source": [
        "print(len(y_p))"
      ],
      "metadata": {
        "id": "gaGxHCdrVNrn",
        "colab": {
          "base_uri": "https://localhost:8080/"
        },
        "outputId": "1d2e04d5-979d-44e6-a450-20cfeddd9dff"
      },
      "execution_count": 177,
      "outputs": [
        {
          "output_type": "stream",
          "name": "stdout",
          "text": [
            "212\n"
          ]
        }
      ]
    },
    {
      "cell_type": "code",
      "source": [
        "l=[]\n",
        "import numpy as np\n",
        "np.array(yh_train)==np.array(y_p)\n",
        "z=np.array(yh_train)\n",
        "a=sum(z)\n",
        "b=len(y_p)\n",
        "print(a/b)"
      ],
      "metadata": {
        "id": "BqagHBlBVOpv",
        "colab": {
          "base_uri": "https://localhost:8080/"
        },
        "outputId": "adaa2db5-5c69-4a62-8348-3b2d321c8376"
      },
      "execution_count": 178,
      "outputs": [
        {
          "output_type": "stream",
          "name": "stdout",
          "text": [
            "0.5471698113207547\n"
          ]
        }
      ]
    },
    {
      "cell_type": "code",
      "source": [],
      "metadata": {
        "id": "ItIApjDAVcnk"
      },
      "execution_count": 123,
      "outputs": []
    }
  ]
}